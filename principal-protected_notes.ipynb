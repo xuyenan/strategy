{
 "cells": [
  {
   "cell_type": "code",
   "execution_count": 1,
   "metadata": {},
   "outputs": [
    {
     "ename": "NameError",
     "evalue": "name 'p' is not defined",
     "output_type": "error",
     "traceback": [
      "\u001b[1;31m---------------------------------------------------------------------------\u001b[0m",
      "\u001b[1;31mNameError\u001b[0m                                 Traceback (most recent call last)",
      "\u001b[1;32m<ipython-input-1-2ab524d0f591>\u001b[0m in \u001b[0;36m<module>\u001b[1;34m\u001b[0m\n\u001b[0;32m      8\u001b[0m \u001b[0mpar_ppn\u001b[0m \u001b[1;33m=\u001b[0m \u001b[1;36m1000.0\u001b[0m    \u001b[1;31m# 保本票据的本金\u001b[0m\u001b[1;33m\u001b[0m\u001b[1;33m\u001b[0m\u001b[0m\n\u001b[0;32m      9\u001b[0m \u001b[0mprice_bond\u001b[0m \u001b[1;33m=\u001b[0m \u001b[1;36m950.0\u001b[0m    \u001b[1;31m# 无风险债劵的当前价格\u001b[0m\u001b[1;33m\u001b[0m\u001b[1;33m\u001b[0m\u001b[0m\n\u001b[1;32m---> 10\u001b[1;33m \u001b[0mp\u001b[0m\u001b[1;33m\u001b[0m\u001b[1;33m\u001b[0m\u001b[0m\n\u001b[0m",
      "\u001b[1;31mNameError\u001b[0m: name 'p' is not defined"
     ]
    }
   ],
   "source": [
    "import numpy as np\n",
    "import pandas as pd\n",
    "import matplotlib.pyplot as plt\n",
    "from pylab import mpl\n",
    "mpl.rcParams['font.sans-serif'] = ['SimHei']\n",
    "mpl.rcParams['axes.unicode_minus'] = False\n"
   ]
  },
  {
   "cell_type": "code",
   "execution_count": 2,
   "metadata": {},
   "outputs": [],
   "source": [
    "par_ppn = 1000.0    # 保本票据的本金\n",
    "price_bond = 950.0    # 无风险债劵的当前价格\n",
    "par_bond = 1000.0   # 无风险债卷的本金\n",
    "price_z = 4.9      # Z股票的当前价格\n",
    "K = 5.0    # 期权执行价格\n",
    "T = 1.0    # 期限\n",
    "price_call = 0.5   # 看涨期权当前报价\n",
    "share_bond = int(par_ppn/price_bond)  #需要购买的无风险债卷数量\n",
    "share_call = int((par_ppn-share_bond*price_bond)/price_call)  # 需要购买看涨期权数量"
   ]
  },
  {
   "cell_type": "code",
   "execution_count": null,
   "metadata": {},
   "outputs": [],
   "source": [
    "price_z_end = np.linspace(3, 10, 100)   #构造期权到期时的Z股票价格数组\n"
   ]
  }
 ],
 "metadata": {
  "kernelspec": {
   "display_name": "Python [conda env:root] *",
   "language": "python",
   "name": "conda-root-py"
  },
  "language_info": {
   "codemirror_mode": {
    "name": "ipython",
    "version": 3
   },
   "file_extension": ".py",
   "mimetype": "text/x-python",
   "name": "python",
   "nbconvert_exporter": "python",
   "pygments_lexer": "ipython3",
   "version": "3.7.6"
  }
 },
 "nbformat": 4,
 "nbformat_minor": 4
}
